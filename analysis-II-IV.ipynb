{
 "cells": [
  {
   "cell_type": "code",
   "execution_count": 17,
   "metadata": {},
   "outputs": [],
   "source": [
    "%load_ext autoreload\n",
    "%autoreload 2\n",
    "from cibin import *"
   ]
  },
  {
   "cell_type": "code",
   "execution_count": 10,
   "metadata": {},
   "outputs": [
    {
     "data": {
      "text/plain": [
       "(11, 742, 59, 693)"
      ]
     },
     "execution_count": 10,
     "metadata": {},
     "output_type": "execute_result"
    }
   ],
   "source": [
    "# Data from Regeneron\n",
    "# treatment 1 = antibody\n",
    "# treatment 0 = no antibody\n",
    "# outcome 1 = covid\n",
    "# outcome 0 = no covid\n",
    "\n",
    "n = 753\n",
    "m = 752\n",
    "N = n + m\n",
    "\n",
    "n11 = 11 # number of subjects assigned to treatment 1 who had outcome 1\n",
    "n10 = n - n11 # number of subjects assigned to treatment 1 who had outcome 0\n",
    "n01 = 59 # number of subjects assigned to treatment 0 who had outcome 1\n",
    "n00 = m - n01 # number of subjects assigned to treatment 0 who had outcome 0\n",
    "\n",
    "alpha = 0.05 \n",
    "n11, n10, n01, n00"
   ]
  },
  {
   "cell_type": "code",
   "execution_count": null,
   "metadata": {},
   "outputs": [],
   "source": [
    "# calculate confidence intervals\n",
    "ci,alloc,iters = tau_twosided_ci(n11, n10, n01, n00,alpha,exact=False)"
   ]
  },
  {
   "cell_type": "markdown",
   "metadata": {},
   "source": [
    "# Analysis Part II\n",
    "Is the same method applicable to the two intermediate endpoints, symptoms within 1 week and symptoms after 1 week? If so, how? Identify any additional assumptions or adjustments that would be required to use the method on the intermediate endpoints. If the method is not applicable to the intermediate endpoints, explain why.\n",
    "\n",
    "In Part I, we applied the `cibin` method to find the 95% lower and two-sided confidence intervals for the reduction in risk in contracting Covid corresponding to the primary endpoint. This same method can be applied to intermediate endpoints - symptoms within 1 week and symptoms after 1 week, but additional assumptions must be made."
   ]
  },
  {
   "cell_type": "code",
   "execution_count": null,
   "metadata": {},
   "outputs": [],
   "source": []
  },
  {
   "cell_type": "markdown",
   "metadata": {},
   "source": [
    "# Analysis Part III\n",
    "\n",
    "Imagine enumerating all the subject-weeks (4 weeks per subject), and labeling each as either “has symptoms” or “does not have symptoms,” so that each week is labeled with a binary outcome. Can either of the methods you implemented be used to find confidence bounds for the average treatment effect, measured as the reduction in the average number of symptomatic weeks per subject? If so, explain how; if not, explain why."
   ]
  },
  {
   "cell_type": "markdown",
   "metadata": {},
   "source": [
    "Explain why it works statistically\n",
    "biary outcome - look at causal inf page (whats special about binary outcomes)"
   ]
  },
  {
   "cell_type": "markdown",
   "metadata": {},
   "source": [
    "# Analysis Part IV\n",
    "Read the safety information and the information about the subjects in the press release, including information about race, age, and risk factors. Based on the evidence in the press release, would you recommend this prophylactic treatment to a friend or relative? Why or why not? Is there something else you would want to know first? If so, what?\n",
    "\n"
   ]
  }
 ],
 "metadata": {
  "kernelspec": {
   "display_name": "Python 3",
   "language": "python",
   "name": "python3"
  },
  "language_info": {
   "codemirror_mode": {
    "name": "ipython",
    "version": 3
   },
   "file_extension": ".py",
   "mimetype": "text/x-python",
   "name": "python",
   "nbconvert_exporter": "python",
   "pygments_lexer": "ipython3",
   "version": "3.7.3"
  }
 },
 "nbformat": 4,
 "nbformat_minor": 2
}
