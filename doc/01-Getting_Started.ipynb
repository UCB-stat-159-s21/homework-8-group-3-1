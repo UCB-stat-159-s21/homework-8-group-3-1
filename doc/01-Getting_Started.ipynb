{
 "cells": [
  {
   "cell_type": "markdown",
   "metadata": {},
   "source": [
    "# Getting Started with `cibin`\n",
    "\n",
    "The `cibin` package provides a method for constructing exact confidence intervals based on the method in section 3 of [\"Exact confidence intervals for the average\n",
    "causal effect on a binary outcome\" by Li and Ding](https://onlinelibrary.wiley.com/doi/abs/10.1002/sim.6764). This method \n",
    "inverts a series of randomization tests. With sample size *n*, the approach requires performing O(*n*$^4$) randomization tests, justifing computationally efficient methods of finding exact confidence intervals.\n",
    "\n",
    "Theroem 2(1) in Li and Ding provides useful order information to reduce the number of randomization tests, resulting in at most *O(n$^2$)* randomization tests needing to be performed.\n",
    "\n",
    "The paper provides technical details and R code, but the `cibin` code base is a python implementation of the method. "
   ]
  },
  {
   "cell_type": "markdown",
   "metadata": {},
   "source": [
    "## Installation\n",
    "First, install the project from source, via:\n",
    "\n",
    "``` pip install .```\n",
    "\n",
    "or, as a developer:\n",
    "\n",
    "`pip install -e .`\n",
    "\n",
    "Check that you have installed the latest version."
   ]
  },
  {
   "cell_type": "markdown",
   "metadata": {},
   "source": [
    "## Calculating Confidence Intervals with `cibin`"
   ]
  },
  {
   "cell_type": "code",
   "execution_count": 1,
   "metadata": {},
   "outputs": [],
   "source": [
    "# import relevant packages\n",
    "%load_ext autoreload\n",
    "%autoreload 2\n",
    "import numpy as np\n",
    "from cibin import *"
   ]
  },
  {
   "cell_type": "markdown",
   "metadata": {},
   "source": [
    "The 2-sided 1-$\\alpha$ confidence bounds for the average treatment effect can be calculated with the `tau_twosided_ci` function in the `cibin` package. This function assumes a randomized experiment with binary outcomes and two treatments, (active and control), finds the confidence bounds for $\\tau$, the average treatment effect. \n",
    "\n",
    "The user may specify the number of subjects assigned to each treatment and outcome, the desired type 1 error level, whether the calculation should be exact or approximate, the max combinations to sample. The function returns the lower and upper oboudn of the confidence interval, allocation that gives the bounds, and number tables examined and total reps across simulations.\n",
    "\n",
    "The function returns a tuple of 3 items:\n",
    "* `[lb ,up]`: lower/upper bound of the confidence interval,\n",
    "* `[allocation that gives lb, allocation that gives ub]`,\n",
    "* `[# tables examined, total reps across simulations]`"
   ]
  },
  {
   "cell_type": "code",
   "execution_count": 2,
   "metadata": {},
   "outputs": [],
   "source": [
    "# Find 2-sided 1-alpha confidence bounds\n",
    "n11 = 1 # number of subjects assigned to treatment 1 who had outcome 1\n",
    "n10 = 1 # number of subjects assigned to treatment 1 who had outcome 0\n",
    "n01 = 1 # number of subjects assigned to treatment 0 who had outcome 1\n",
    "n00 = 13 # number of subjects assigned to treatment 0 who had outcome 0\n",
    "alpha = 0.05 # The desired type 1 error level.\n",
    "ci, alloc, iters = tau_twosided_ci(n11, n10, n01, n00, alpha, exact=True, max_combinations=10**5, reps=10**3)"
   ]
  },
  {
   "cell_type": "code",
   "execution_count": 3,
   "metadata": {},
   "outputs": [
    {
     "name": "stdout",
     "output_type": "stream",
     "text": [
      "confidence interval: [-0.0625, 0.875]\n",
      "allocation that gives confidence interval: [[14, 0, 1, 1], [1, 14, 0, 1]]\n",
      "# tables exambined: 71\n",
      "total # reps across simulations: 8520\n"
     ]
    }
   ],
   "source": [
    "print('confidence interval:',ci)\n",
    "print('allocation that gives confidence interval:',alloc)\n",
    "print('# tables exambined:',iters[0])\n",
    "print('total # reps across simulations:',iters[1])"
   ]
  },
  {
   "cell_type": "markdown",
   "metadata": {},
   "source": [
    "`tau_twosided_ci` can find an exact or simulated solution. For either solution, the function calls `N_generator` to generate tables algebraically consistent with the provided data. \n",
    "\n",
    "`N_generator` returns a list of 4 integers:\n",
    "* `N00`: subjects with potential outcome 0 under control and treatment\n",
    "* `N01`: subjects with potential outcome 0 under control and 1 under treatment\n",
    "* `N10`: subjects with potential outcome 1 under control and 0 under treatment\n",
    "* `N11`: subjects with potential outcome 1 under control and treatment"
   ]
  },
  {
   "cell_type": "code",
   "execution_count": 4,
   "metadata": {},
   "outputs": [],
   "source": [
    "N_generator?"
   ]
  },
  {
   "cell_type": "code",
   "execution_count": 16,
   "metadata": {},
   "outputs": [
    {
     "name": "stdout",
     "output_type": "stream",
     "text": [
      "[0, 13, 1, 2]\n",
      "[0, 13, 2, 1]\n",
      "[0, 14, 1, 1]\n",
      "[1, 12, 1, 2]\n",
      "[1, 12, 2, 1]\n",
      "[1, 13, 0, 2]\n",
      "[1, 13, 1, 1]\n",
      "[1, 14, 0, 1]\n",
      "[2, 11, 1, 2]\n",
      "[2, 11, 2, 1]\n",
      "[2, 12, 0, 2]\n",
      "[2, 12, 1, 1]\n",
      "[2, 13, 0, 1]\n",
      "[3, 10, 1, 2]\n",
      "[3, 10, 2, 1]\n",
      "[3, 11, 0, 2]\n",
      "[3, 11, 1, 1]\n",
      "[3, 12, 0, 1]\n",
      "[4, 9, 1, 2]\n",
      "[4, 9, 2, 1]\n",
      "[4, 10, 0, 2]\n",
      "[4, 10, 1, 1]\n",
      "[4, 11, 0, 1]\n",
      "[5, 8, 1, 2]\n",
      "[5, 8, 2, 1]\n",
      "[5, 9, 0, 2]\n",
      "[5, 9, 1, 1]\n",
      "[5, 10, 0, 1]\n",
      "[6, 7, 1, 2]\n",
      "[6, 7, 2, 1]\n",
      "[6, 8, 0, 2]\n",
      "[6, 8, 1, 1]\n",
      "[6, 9, 0, 1]\n",
      "[7, 6, 1, 2]\n",
      "[7, 6, 2, 1]\n",
      "[7, 7, 0, 2]\n",
      "[7, 7, 1, 1]\n",
      "[7, 8, 0, 1]\n",
      "[8, 5, 1, 2]\n",
      "[8, 5, 2, 1]\n",
      "[8, 6, 0, 2]\n",
      "[8, 6, 1, 1]\n",
      "[8, 7, 0, 1]\n",
      "[9, 4, 1, 2]\n",
      "[9, 4, 2, 1]\n",
      "[9, 5, 0, 2]\n",
      "[9, 5, 1, 1]\n",
      "[9, 6, 0, 1]\n",
      "[10, 3, 1, 2]\n",
      "[10, 3, 2, 1]\n",
      "[10, 4, 0, 2]\n",
      "[10, 4, 1, 1]\n",
      "[10, 5, 0, 1]\n",
      "[11, 2, 1, 2]\n",
      "[11, 2, 2, 1]\n",
      "[11, 3, 0, 2]\n",
      "[11, 3, 1, 1]\n",
      "[11, 4, 0, 1]\n",
      "[12, 1, 1, 2]\n",
      "[12, 1, 2, 1]\n",
      "[12, 2, 0, 2]\n",
      "[12, 2, 1, 1]\n",
      "[12, 3, 0, 1]\n",
      "[13, 0, 1, 2]\n",
      "[13, 0, 2, 1]\n",
      "[13, 1, 0, 2]\n",
      "[13, 1, 1, 1]\n",
      "[13, 2, 0, 1]\n",
      "[14, 0, 0, 2]\n",
      "[14, 0, 1, 1]\n",
      "[14, 1, 0, 1]\n"
     ]
    }
   ],
   "source": [
    "N = n00 + n01 + n10 + n11\n",
    "Nt_gen = N_generator(N,n00,n01,n10,n11)\n",
    "for Nt in Nt_gen:\n",
    "    print(Nt)"
   ]
  },
  {
   "cell_type": "markdown",
   "metadata": {},
   "source": [
    "Each list returned by `N_generator` is used to generate a potential outcomes table with the `potential_outcomes` function. The `potential_outcomes` function makes a 2xN table of potential outcomes from the 2x2 summary table from `N_generator`. "
   ]
  },
  {
   "cell_type": "code",
   "execution_count": 26,
   "metadata": {},
   "outputs": [],
   "source": [
    "Nt_example = [0, 13, 1, 2]\n",
    "table = potential_outcomes(Nt_example)"
   ]
  },
  {
   "cell_type": "code",
   "execution_count": 31,
   "metadata": {},
   "outputs": [
    {
     "name": "stdout",
     "output_type": "stream",
     "text": [
      "shape: (16, 2)\n",
      "[[0 1]\n",
      " [0 1]\n",
      " [0 1]\n",
      " [0 1]\n",
      " [0 1]\n",
      " [0 1]\n",
      " [0 1]\n",
      " [0 1]\n",
      " [0 1]\n",
      " [0 1]\n",
      " [0 1]\n",
      " [0 1]\n",
      " [0 1]\n",
      " [1 0]\n",
      " [1 1]\n",
      " [1 1]]\n"
     ]
    }
   ],
   "source": [
    "print('shape:',table.shape)\n",
    "print(table)"
   ]
  },
  {
   "cell_type": "markdown",
   "metadata": {},
   "source": [
    "$\\tau$ and the test statistic $\\tau$*-$\\tau$ is computed for each of the potential outcome tables generated. \n",
    "\n",
    "If the solution is exact, all possible samples are generated and a test statistic is calculated for each sample. If the solution is not exact, the samples are only generated up to the `reps` value provided by the user."
   ]
  }
 ],
 "metadata": {
  "kernelspec": {
   "display_name": "Python 3",
   "language": "python",
   "name": "python3"
  },
  "language_info": {
   "codemirror_mode": {
    "name": "ipython",
    "version": 3
   },
   "file_extension": ".py",
   "mimetype": "text/x-python",
   "name": "python",
   "nbconvert_exporter": "python",
   "pygments_lexer": "ipython3",
   "version": "3.7.3"
  }
 },
 "nbformat": 4,
 "nbformat_minor": 2
}
