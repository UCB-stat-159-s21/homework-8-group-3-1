{
 "cells": [
  {
   "cell_type": "markdown",
   "metadata": {},
   "source": [
    "Here we recreate column \"3\" of Table 1 of the Li and Ding paper."
   ]
  },
  {
   "cell_type": "code",
   "execution_count": 1,
   "metadata": {},
   "outputs": [
    {
     "name": "stdout",
     "output_type": "stream",
     "text": [
      "n\t\t\t3\n",
      "-----\t\t\t-----\n",
      "(1, 1, 1, 13)\t\t[-1. 14.]\n",
      "(2, 6, 8, 0)\t\t[-14.  -5.]\n",
      "(6, 0, 11, 3)\t\t[-4.  8.]\n",
      "(6, 4, 4, 6)\t\t[-4. 10.]\n",
      "(1, 1, 3, 19)\t\t[-3. 20.]\n",
      "(8, 4, 5, 7)\t\t[-3. 12.]\n"
     ]
    }
   ],
   "source": [
    "import numpy as np\n",
    "from cibin import tau_twosided_ci\n",
    "\n",
    "alpha = .05\n",
    "cases = [(1,1,1,13),\n",
    "        (2,6,8,0),\n",
    "        (6,0,11,3),\n",
    "        (6,4,4,6),\n",
    "        (1,1,3,19),\n",
    "        (8,4,5,7)]\n",
    "\n",
    "print(f\"n\\t\\t\\t3\")\n",
    "print(f\"-----\\t\\t\\t-----\")\n",
    "for n in cases:\n",
    "    N = sum(n)\n",
    "    n11, n10, n01, n00 = n\n",
    "    ci, _, _ = tau_twosided_ci(n11, n10, n01, n00, alpha, exact=(N<20))\n",
    "    print(f\"{n}\\t\\t{N*np.array(ci)}\")"
   ]
  },
  {
   "cell_type": "markdown",
   "metadata": {},
   "source": [
    "The final row is approximate, so it does not exactly match with the paper."
   ]
  }
 ],
 "metadata": {
  "kernelspec": {
   "display_name": "Python 3",
   "language": "python",
   "name": "python3"
  },
  "language_info": {
   "codemirror_mode": {
    "name": "ipython",
    "version": 3
   },
   "file_extension": ".py",
   "mimetype": "text/x-python",
   "name": "python",
   "nbconvert_exporter": "python",
   "pygments_lexer": "ipython3",
   "version": "3.8.5"
  }
 },
 "nbformat": 4,
 "nbformat_minor": 4
}
